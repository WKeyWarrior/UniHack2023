{
  "nbformat": 4,
  "nbformat_minor": 0,
  "metadata": {
    "colab": {
      "provenance": []
    },
    "kernelspec": {
      "name": "python3",
      "display_name": "Python 3"
    },
    "language_info": {
      "name": "python"
    }
  },
  "cells": [
    {
      "cell_type": "code",
      "execution_count": 4,
      "metadata": {
        "colab": {
          "base_uri": "https://localhost:8080/"
        },
        "id": "m74o60DPQeU_",
        "outputId": "945159ac-89ba-4aaf-8dfd-4851d742fad4"
      },
      "outputs": [
        {
          "output_type": "stream",
          "name": "stdout",
          "text": [
            "      height    sex      weight  age  experience  exercise frequency per week  \\\n",
            "0         85   True  299.277383   50         0.5                            8   \n",
            "1         71   True  156.608023   43         1.0                            7   \n",
            "2         83  False  277.715875   29         0.5                            4   \n",
            "3         58  False  103.264751   25         1.5                            2   \n",
            "4         75   True  178.911807   36         1.5                            4   \n",
            "...      ...    ...         ...  ...         ...                          ...   \n",
            "9994      71   True  160.336785   26         1.5                            5   \n",
            "9995      74  False  192.400000   31         1.5                            7   \n",
            "9996      67   True  189.265946   22         1.5                            6   \n",
            "9997      51  False   88.500597   55         0.5                            8   \n",
            "9998      74   True  206.576842   70         1.5                            6   \n",
            "\n",
            "      reps  bench  curl  squat  pulldown  row  pushdown  toe  shoulder  rdl  \n",
            "0       15     45    15     65        25   50        15   60        15   25  \n",
            "1       15     50    15     55        25   45        15   55        15   30  \n",
            "2        5     35    10     35        25   25        10   35        10   25  \n",
            "3        5     55    20     75        40   60        20   75        20   45  \n",
            "4       10     90    30    120        65   90        30  120        30   55  \n",
            "...    ...    ...   ...    ...       ...  ...       ...  ...       ...  ...  \n",
            "9994    15     75    25    100        55   80        25   95        25   50  \n",
            "9995    10     95    30    125        60   95        30  125        30   65  \n",
            "9996    15    100    35    145        65  105        35  135        35   70  \n",
            "9997    10     20     5     20        10   15         5   20         5   10  \n",
            "9998    15    110    35    135        75  100        35  135        35   75  \n",
            "\n",
            "[9999 rows x 16 columns]\n"
          ]
        }
      ],
      "source": [
        "import pandas as pd\n",
        "import numpy as np\n",
        "import csv\n",
        "df = pd.read_csv('work_out.csv')\n",
        "print(df)"
      ]
    },
    {
      "cell_type": "code",
      "source": [
        "X = df.iloc[:, :7]\n",
        "y = df.iloc[:, 7:]\n",
        "y"
      ],
      "metadata": {
        "colab": {
          "base_uri": "https://localhost:8080/",
          "height": 423
        },
        "id": "c8ZbceZ6T6Kn",
        "outputId": "33bae287-ff03-48f4-ace5-10cd909b9c92"
      },
      "execution_count": 8,
      "outputs": [
        {
          "output_type": "execute_result",
          "data": {
            "text/plain": [
              "      bench  curl  squat  pulldown  row  pushdown  toe  shoulder  rdl\n",
              "0        45    15     65        25   50        15   60        15   25\n",
              "1        50    15     55        25   45        15   55        15   30\n",
              "2        35    10     35        25   25        10   35        10   25\n",
              "3        55    20     75        40   60        20   75        20   45\n",
              "4        90    30    120        65   90        30  120        30   55\n",
              "...     ...   ...    ...       ...  ...       ...  ...       ...  ...\n",
              "9994     75    25    100        55   80        25   95        25   50\n",
              "9995     95    30    125        60   95        30  125        30   65\n",
              "9996    100    35    145        65  105        35  135        35   70\n",
              "9997     20     5     20        10   15         5   20         5   10\n",
              "9998    110    35    135        75  100        35  135        35   75\n",
              "\n",
              "[9999 rows x 9 columns]"
            ],
            "text/html": [
              "\n",
              "  <div id=\"df-099582df-6a58-45fc-aac1-307cbb6a2748\">\n",
              "    <div class=\"colab-df-container\">\n",
              "      <div>\n",
              "<style scoped>\n",
              "    .dataframe tbody tr th:only-of-type {\n",
              "        vertical-align: middle;\n",
              "    }\n",
              "\n",
              "    .dataframe tbody tr th {\n",
              "        vertical-align: top;\n",
              "    }\n",
              "\n",
              "    .dataframe thead th {\n",
              "        text-align: right;\n",
              "    }\n",
              "</style>\n",
              "<table border=\"1\" class=\"dataframe\">\n",
              "  <thead>\n",
              "    <tr style=\"text-align: right;\">\n",
              "      <th></th>\n",
              "      <th>bench</th>\n",
              "      <th>curl</th>\n",
              "      <th>squat</th>\n",
              "      <th>pulldown</th>\n",
              "      <th>row</th>\n",
              "      <th>pushdown</th>\n",
              "      <th>toe</th>\n",
              "      <th>shoulder</th>\n",
              "      <th>rdl</th>\n",
              "    </tr>\n",
              "  </thead>\n",
              "  <tbody>\n",
              "    <tr>\n",
              "      <th>0</th>\n",
              "      <td>45</td>\n",
              "      <td>15</td>\n",
              "      <td>65</td>\n",
              "      <td>25</td>\n",
              "      <td>50</td>\n",
              "      <td>15</td>\n",
              "      <td>60</td>\n",
              "      <td>15</td>\n",
              "      <td>25</td>\n",
              "    </tr>\n",
              "    <tr>\n",
              "      <th>1</th>\n",
              "      <td>50</td>\n",
              "      <td>15</td>\n",
              "      <td>55</td>\n",
              "      <td>25</td>\n",
              "      <td>45</td>\n",
              "      <td>15</td>\n",
              "      <td>55</td>\n",
              "      <td>15</td>\n",
              "      <td>30</td>\n",
              "    </tr>\n",
              "    <tr>\n",
              "      <th>2</th>\n",
              "      <td>35</td>\n",
              "      <td>10</td>\n",
              "      <td>35</td>\n",
              "      <td>25</td>\n",
              "      <td>25</td>\n",
              "      <td>10</td>\n",
              "      <td>35</td>\n",
              "      <td>10</td>\n",
              "      <td>25</td>\n",
              "    </tr>\n",
              "    <tr>\n",
              "      <th>3</th>\n",
              "      <td>55</td>\n",
              "      <td>20</td>\n",
              "      <td>75</td>\n",
              "      <td>40</td>\n",
              "      <td>60</td>\n",
              "      <td>20</td>\n",
              "      <td>75</td>\n",
              "      <td>20</td>\n",
              "      <td>45</td>\n",
              "    </tr>\n",
              "    <tr>\n",
              "      <th>4</th>\n",
              "      <td>90</td>\n",
              "      <td>30</td>\n",
              "      <td>120</td>\n",
              "      <td>65</td>\n",
              "      <td>90</td>\n",
              "      <td>30</td>\n",
              "      <td>120</td>\n",
              "      <td>30</td>\n",
              "      <td>55</td>\n",
              "    </tr>\n",
              "    <tr>\n",
              "      <th>...</th>\n",
              "      <td>...</td>\n",
              "      <td>...</td>\n",
              "      <td>...</td>\n",
              "      <td>...</td>\n",
              "      <td>...</td>\n",
              "      <td>...</td>\n",
              "      <td>...</td>\n",
              "      <td>...</td>\n",
              "      <td>...</td>\n",
              "    </tr>\n",
              "    <tr>\n",
              "      <th>9994</th>\n",
              "      <td>75</td>\n",
              "      <td>25</td>\n",
              "      <td>100</td>\n",
              "      <td>55</td>\n",
              "      <td>80</td>\n",
              "      <td>25</td>\n",
              "      <td>95</td>\n",
              "      <td>25</td>\n",
              "      <td>50</td>\n",
              "    </tr>\n",
              "    <tr>\n",
              "      <th>9995</th>\n",
              "      <td>95</td>\n",
              "      <td>30</td>\n",
              "      <td>125</td>\n",
              "      <td>60</td>\n",
              "      <td>95</td>\n",
              "      <td>30</td>\n",
              "      <td>125</td>\n",
              "      <td>30</td>\n",
              "      <td>65</td>\n",
              "    </tr>\n",
              "    <tr>\n",
              "      <th>9996</th>\n",
              "      <td>100</td>\n",
              "      <td>35</td>\n",
              "      <td>145</td>\n",
              "      <td>65</td>\n",
              "      <td>105</td>\n",
              "      <td>35</td>\n",
              "      <td>135</td>\n",
              "      <td>35</td>\n",
              "      <td>70</td>\n",
              "    </tr>\n",
              "    <tr>\n",
              "      <th>9997</th>\n",
              "      <td>20</td>\n",
              "      <td>5</td>\n",
              "      <td>20</td>\n",
              "      <td>10</td>\n",
              "      <td>15</td>\n",
              "      <td>5</td>\n",
              "      <td>20</td>\n",
              "      <td>5</td>\n",
              "      <td>10</td>\n",
              "    </tr>\n",
              "    <tr>\n",
              "      <th>9998</th>\n",
              "      <td>110</td>\n",
              "      <td>35</td>\n",
              "      <td>135</td>\n",
              "      <td>75</td>\n",
              "      <td>100</td>\n",
              "      <td>35</td>\n",
              "      <td>135</td>\n",
              "      <td>35</td>\n",
              "      <td>75</td>\n",
              "    </tr>\n",
              "  </tbody>\n",
              "</table>\n",
              "<p>9999 rows × 9 columns</p>\n",
              "</div>\n",
              "      <button class=\"colab-df-convert\" onclick=\"convertToInteractive('df-099582df-6a58-45fc-aac1-307cbb6a2748')\"\n",
              "              title=\"Convert this dataframe to an interactive table.\"\n",
              "              style=\"display:none;\">\n",
              "        \n",
              "  <svg xmlns=\"http://www.w3.org/2000/svg\" height=\"24px\"viewBox=\"0 0 24 24\"\n",
              "       width=\"24px\">\n",
              "    <path d=\"M0 0h24v24H0V0z\" fill=\"none\"/>\n",
              "    <path d=\"M18.56 5.44l.94 2.06.94-2.06 2.06-.94-2.06-.94-.94-2.06-.94 2.06-2.06.94zm-11 1L8.5 8.5l.94-2.06 2.06-.94-2.06-.94L8.5 2.5l-.94 2.06-2.06.94zm10 10l.94 2.06.94-2.06 2.06-.94-2.06-.94-.94-2.06-.94 2.06-2.06.94z\"/><path d=\"M17.41 7.96l-1.37-1.37c-.4-.4-.92-.59-1.43-.59-.52 0-1.04.2-1.43.59L10.3 9.45l-7.72 7.72c-.78.78-.78 2.05 0 2.83L4 21.41c.39.39.9.59 1.41.59.51 0 1.02-.2 1.41-.59l7.78-7.78 2.81-2.81c.8-.78.8-2.07 0-2.86zM5.41 20L4 18.59l7.72-7.72 1.47 1.35L5.41 20z\"/>\n",
              "  </svg>\n",
              "      </button>\n",
              "      \n",
              "  <style>\n",
              "    .colab-df-container {\n",
              "      display:flex;\n",
              "      flex-wrap:wrap;\n",
              "      gap: 12px;\n",
              "    }\n",
              "\n",
              "    .colab-df-convert {\n",
              "      background-color: #E8F0FE;\n",
              "      border: none;\n",
              "      border-radius: 50%;\n",
              "      cursor: pointer;\n",
              "      display: none;\n",
              "      fill: #1967D2;\n",
              "      height: 32px;\n",
              "      padding: 0 0 0 0;\n",
              "      width: 32px;\n",
              "    }\n",
              "\n",
              "    .colab-df-convert:hover {\n",
              "      background-color: #E2EBFA;\n",
              "      box-shadow: 0px 1px 2px rgba(60, 64, 67, 0.3), 0px 1px 3px 1px rgba(60, 64, 67, 0.15);\n",
              "      fill: #174EA6;\n",
              "    }\n",
              "\n",
              "    [theme=dark] .colab-df-convert {\n",
              "      background-color: #3B4455;\n",
              "      fill: #D2E3FC;\n",
              "    }\n",
              "\n",
              "    [theme=dark] .colab-df-convert:hover {\n",
              "      background-color: #434B5C;\n",
              "      box-shadow: 0px 1px 3px 1px rgba(0, 0, 0, 0.15);\n",
              "      filter: drop-shadow(0px 1px 2px rgba(0, 0, 0, 0.3));\n",
              "      fill: #FFFFFF;\n",
              "    }\n",
              "  </style>\n",
              "\n",
              "      <script>\n",
              "        const buttonEl =\n",
              "          document.querySelector('#df-099582df-6a58-45fc-aac1-307cbb6a2748 button.colab-df-convert');\n",
              "        buttonEl.style.display =\n",
              "          google.colab.kernel.accessAllowed ? 'block' : 'none';\n",
              "\n",
              "        async function convertToInteractive(key) {\n",
              "          const element = document.querySelector('#df-099582df-6a58-45fc-aac1-307cbb6a2748');\n",
              "          const dataTable =\n",
              "            await google.colab.kernel.invokeFunction('convertToInteractive',\n",
              "                                                     [key], {});\n",
              "          if (!dataTable) return;\n",
              "\n",
              "          const docLinkHtml = 'Like what you see? Visit the ' +\n",
              "            '<a target=\"_blank\" href=https://colab.research.google.com/notebooks/data_table.ipynb>data table notebook</a>'\n",
              "            + ' to learn more about interactive tables.';\n",
              "          element.innerHTML = '';\n",
              "          dataTable['output_type'] = 'display_data';\n",
              "          await google.colab.output.renderOutput(dataTable, element);\n",
              "          const docLink = document.createElement('div');\n",
              "          docLink.innerHTML = docLinkHtml;\n",
              "          element.appendChild(docLink);\n",
              "        }\n",
              "      </script>\n",
              "    </div>\n",
              "  </div>\n",
              "  "
            ]
          },
          "metadata": {},
          "execution_count": 8
        }
      ]
    },
    {
      "cell_type": "code",
      "source": [
        "from sklearn.model_selection import train_test_split\n",
        "X_train, X_test, y_train, y_test = train_test_split(X, y, test_size = 0.2, random_state = 0)"
      ],
      "metadata": {
        "id": "sVeJ6wwCVeDt"
      },
      "execution_count": 9,
      "outputs": []
    },
    {
      "cell_type": "code",
      "source": [
        "from sklearn.ensemble import RandomForestRegressor\n",
        "regressor = RandomForestRegressor(n_estimators = 10, random_state = 0)\n",
        "regressor.fit(X_train, y_train)"
      ],
      "metadata": {
        "colab": {
          "base_uri": "https://localhost:8080/"
        },
        "id": "tIeBsinDWLJH",
        "outputId": "ec82e9f6-214a-458c-fce2-524d35712055"
      },
      "execution_count": 10,
      "outputs": [
        {
          "output_type": "execute_result",
          "data": {
            "text/plain": [
              "RandomForestRegressor(n_estimators=10, random_state=0)"
            ]
          },
          "metadata": {},
          "execution_count": 10
        }
      ]
    },
    {
      "cell_type": "code",
      "source": [
        "y_pred = regressor.predict(X_test)"
      ],
      "metadata": {
        "id": "qIad-6c2Wb3G"
      },
      "execution_count": 11,
      "outputs": []
    },
    {
      "cell_type": "code",
      "source": [
        "from sklearn.metrics import r2_score\n",
        "r2_score(y_test, y_pred)"
      ],
      "metadata": {
        "colab": {
          "base_uri": "https://localhost:8080/"
        },
        "id": "ElXPfl0EWozi",
        "outputId": "014a2b2d-3777-46ee-e14e-71bcb9a318fd"
      },
      "execution_count": 12,
      "outputs": [
        {
          "output_type": "execute_result",
          "data": {
            "text/plain": [
              "0.9790131879251821"
            ]
          },
          "metadata": {},
          "execution_count": 12
        }
      ]
    },
    {
      "cell_type": "code",
      "source": [],
      "metadata": {
        "id": "guo82UYcWyUw"
      },
      "execution_count": null,
      "outputs": []
    }
  ]
}